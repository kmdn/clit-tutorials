{
 "cells": [
  {
   "cell_type": "markdown",
   "id": "062f9dc0-b62b-42e5-b193-6a00765da5fd",
   "metadata": {},
   "source": [
    "# Integrate own Filter\n",
    "As mentioned in the previous section, to make this as easy to use as possible, this notebook provide a template for integrating own Filter in the pipeline."
   ]
  },
  {
   "cell_type": "code",
   "execution_count": null,
   "id": "9956bd20-4178-4730-b480-05127674df31",
   "metadata": {},
   "outputs": [],
   "source": [
    "from flask import Flask, request, Response, jsonify\n",
    "import json\n",
    "import spacy\n",
    "\n",
    "app = Flask(__name__)\n",
    "\n",
    "print(\"Loading Custom Filter\")\n"
   ]
  },
  {
   "cell_type": "markdown",
   "id": "3ebb4003",
   "metadata": {},
   "source": [
    "You can modify the process method, to filter any part of the document.\n",
    "in the default case, this method, removes words that appear in the banned_words list."
   ]
  },
  {
   "cell_type": "code",
   "execution_count": null,
   "id": "f6ba5514-9005-47db-9c65-1e090fa984c7",
   "metadata": {},
   "outputs": [],
   "source": [
    "# remove mentions that are in the banned_words list\n",
    "def process(document):\n",
    "    banned_words = ['emperor']\n",
    "\n",
    "    filtered_mentions = [i for i in document['mentions'] if i['mention'] not in banned_words]\n",
    "    document['mentions'] = filtered_mentions\n",
    "\n",
    "    return document\n"
   ]
  },
  {
   "cell_type": "code",
   "execution_count": null,
   "id": "ed775cf0-6e4f-48ba-8a06-03f06349547e",
   "metadata": {},
   "outputs": [],
   "source": [
    "@app.route('/', methods=['get', 'post'])\n",
    "def index():\n",
    "    print(\"Incoming request:\")\n",
    "    req = json.loads(request.data)\n",
    "    document = req['document']\n",
    "\n",
    "    document = process(document)\n",
    "    # print(document)\n",
    "\n",
    "    return jsonify(\n",
    "            {'document' : document,\n",
    "            'pipelineConfig' : req['pipelineConfig'],\n",
    "            'componentId' : req['componentId']}\n",
    "            )\n"
   ]
  },
  {
   "cell_type": "code",
   "execution_count": null,
   "id": "c512dd90-ad63-4873-9b18-fb3c45c30290",
   "metadata": {},
   "outputs": [],
   "source": [
    "class LoggingMiddleware(object):\n",
    "    def __init__(self, app):\n",
    "        self._app = app\n",
    "\n",
    "    def __call__(self, env, resp):\n",
    "        errorlog = env['wsgi.errors']\n",
    "        #pprint.pprint(('REQUEST', env), stream=errorlog)\n",
    "\n",
    "        def log_response(status, headers, *args):\n",
    "            #pprint.pprint(('RESPONSE', status, headers), stream=errorlog)\n",
    "            return resp(status, headers, *args)\n",
    "\n",
    "        return self._app(env, log_response)\n",
    "\n",
    "\n",
    "# Run at flask startup (https://stackoverflow.com/a/55573732)\n",
    "with app.app_context():\n",
    "    pass"
   ]
  },
  {
   "cell_type": "markdown",
   "id": "49037f38-a89b-4dca-b337-f628c092f312",
   "metadata": {},
   "source": [
    "You can change the port of the web service here, after running the following code the webservice will be available.\n",
    "\n",
    "**NOTE**: It only accepts get and post requests, trying to open the web page will result in an error with code 500."
   ]
  },
  {
   "cell_type": "code",
   "execution_count": null,
   "id": "4a549e52-124b-452f-a333-6ae039c74eb2",
   "metadata": {},
   "outputs": [],
   "source": [
    "if __name__ == '__main__':\n",
    "    # MAKE SURE YOU DON'T USE THE SAME PORT ON THE OTHER PIPELINE COMPONENTS\n",
    "    port = 5007\n",
    "    print(\"Running app... on port: \", port)\n",
    "    app.wsgi_app = LoggingMiddleware(app.wsgi_app)\n",
    "    app.run(host='0.0.0.0', port=port)"
   ]
  }
 ],
 "metadata": {
  "kernelspec": {
   "display_name": "Python 3 (ipykernel)",
   "language": "python",
   "name": "python3"
  },
  "language_info": {
   "codemirror_mode": {
    "name": "ipython",
    "version": 3
   },
   "file_extension": ".py",
   "mimetype": "text/x-python",
   "name": "python",
   "nbconvert_exporter": "python",
   "pygments_lexer": "ipython3",
   "version": "3.11.1"
  }
 },
 "nbformat": 4,
 "nbformat_minor": 5
}
