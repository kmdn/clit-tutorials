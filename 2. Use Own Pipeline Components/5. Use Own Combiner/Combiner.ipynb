{
 "cells": [
  {
   "cell_type": "markdown",
   "id": "062f9dc0-b62b-42e5-b193-6a00765da5fd",
   "metadata": {},
   "source": [
    "# Integrate own Combiner\n",
    "As mentioned in the previous section, to make this as easy to use as possible, this notebook provide a template for integrating own Combiner in the pipeline."
   ]
  },
  {
   "cell_type": "code",
   "execution_count": null,
   "id": "9956bd20-4178-4730-b480-05127674df31",
   "metadata": {},
   "outputs": [],
   "source": [
    "from flask import Flask, request, Response, jsonify\n",
    "import json\n",
    "import spacy\n",
    "\n",
    "app = Flask(__name__)\n",
    "\n",
    "print(\"Loading Custom Combiner\")\n"
   ]
  },
  {
   "cell_type": "markdown",
   "id": "e9528a59",
   "metadata": {},
   "source": [
    "You can modify the process method, to make it combine the passed documents to a single document.\n",
    "in the default case, this method, returns the first document.\n"
   ]
  },
  {
   "cell_type": "code",
   "execution_count": null,
   "id": "36cc7d06-ac33-49ea-a461-57f1a0980b65",
   "metadata": {},
   "outputs": [],
   "source": [
    "# returns the first document\n",
    "def process(documents):\n",
    "\n",
    "    return documents[0]['document']"
   ]
  },
  {
   "cell_type": "code",
   "execution_count": null,
   "id": "ed775cf0-6e4f-48ba-8a06-03f06349547e",
   "metadata": {},
   "outputs": [],
   "source": [
    "@app.route('/', methods=['get', 'post'])\n",
    "def index():\n",
    "    print(\"Incoming request:\")\n",
    "    req = json.loads(request.data)\n",
    "    documents = req['documents']\n",
    "\n",
    "    document = process(documents)\n",
    "\n",
    "    return jsonify(\n",
    "            {'document' : document,\n",
    "            'pipelineConfig' : req['pipelineConfig'],\n",
    "            'componentId' : req['componentId']}\n",
    "            )\n"
   ]
  },
  {
   "cell_type": "code",
   "execution_count": null,
   "id": "c512dd90-ad63-4873-9b18-fb3c45c30290",
   "metadata": {},
   "outputs": [],
   "source": [
    "class LoggingMiddleware(object):\n",
    "    def __init__(self, app):\n",
    "        self._app = app\n",
    "\n",
    "    def __call__(self, env, resp):\n",
    "        errorlog = env['wsgi.errors']\n",
    "        #pprint.pprint(('REQUEST', env), stream=errorlog)\n",
    "\n",
    "        def log_response(status, headers, *args):\n",
    "            #pprint.pprint(('RESPONSE', status, headers), stream=errorlog)\n",
    "            return resp(status, headers, *args)\n",
    "\n",
    "        return self._app(env, log_response)\n",
    "\n",
    "\n",
    "# Run at flask startup (https://stackoverflow.com/a/55573732)\n",
    "with app.app_context():\n",
    "    pass"
   ]
  },
  {
   "cell_type": "markdown",
   "id": "49037f38-a89b-4dca-b337-f628c092f312",
   "metadata": {},
   "source": [
    "You can change the port of the web service here, after running the following code the webservice will be available.\n",
    "\n",
    "**NOTE**: It only accepts get and post requests, trying to open the web page will result in an error with code 500."
   ]
  },
  {
   "cell_type": "code",
   "execution_count": null,
   "id": "4a549e52-124b-452f-a333-6ae039c74eb2",
   "metadata": {},
   "outputs": [],
   "source": [
    "if __name__ == '__main__':\n",
    "    # MAKE SURE YOU DON'T USE THE SAME PORT ON THE OTHER PIPELINE COMPONENTS\n",
    "    port = 5005\n",
    "    print(\"Running app... on port: \", port)\n",
    "    app.wsgi_app = LoggingMiddleware(app.wsgi_app)\n",
    "    app.run(host='0.0.0.0', port=port)"
   ]
  }
 ],
 "metadata": {
  "kernelspec": {
   "display_name": "Python 3 (ipykernel)",
   "language": "python",
   "name": "python3"
  },
  "language_info": {
   "codemirror_mode": {
    "name": "ipython",
    "version": 3
   },
   "file_extension": ".py",
   "mimetype": "text/x-python",
   "name": "python",
   "nbconvert_exporter": "python",
   "pygments_lexer": "ipython3",
   "version": "3.11.1"
  }
 },
 "nbformat": 4,
 "nbformat_minor": 5
}
