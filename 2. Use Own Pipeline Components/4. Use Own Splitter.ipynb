{
 "cells": [
  {
   "cell_type": "markdown",
   "id": "062f9dc0-b62b-42e5-b193-6a00765da5fd",
   "metadata": {},
   "source": [
    "# Integrate own Splitter\n",
    "As mentioned in the previous section, to make this as easy to use as possible, this notebook provide a template for integrating own Splitter in the pipeline."
   ]
  },
  {
   "cell_type": "code",
   "execution_count": null,
   "id": "9956bd20-4178-4730-b480-05127674df31",
   "metadata": {},
   "outputs": [],
   "source": [
    "from flask import Flask, request, Response, jsonify\n",
    "import json\n",
    "import spacy\n",
    "\n",
    "app = Flask(__name__)\n",
    "\n",
    "print(\"Loading Custom Splitter\")\n"
   ]
  },
  {
   "cell_type": "markdown",
   "id": "b0118d6c",
   "metadata": {},
   "source": [
    "You can modify the process method, to make it produce documents as needed.\n",
    "in the default case, this method, copies the document as many times as there is child nodes.\n",
    "another use case would be to split the document acording to the meaning of a mention, and pass all \"People\" to the first document, and \"objects\" to the second document and so on..\n",
    "\n",
    "**NOTE**: Please make sure that you generate as many documents as there are child nodes, otherwise the assertion in the index method will be triggered."
   ]
  },
  {
   "cell_type": "code",
   "execution_count": null,
   "id": "34d2a2ad",
   "metadata": {},
   "outputs": [],
   "source": [
    "# Example copy split\n",
    "def process(document, number_of_child_nodes):\n",
    "\n",
    "    return [ document for i in range(0, number_of_child_nodes) ]\n"
   ]
  },
  {
   "cell_type": "code",
   "execution_count": null,
   "id": "ed775cf0-6e4f-48ba-8a06-03f06349547e",
   "metadata": {},
   "outputs": [],
   "source": [
    "@app.route('/', methods=['get', 'post'])\n",
    "def index():\n",
    "    print(\"Incoming request:\")\n",
    "    req = json.loads(request.data)\n",
    "    document = req['document']\n",
    "\n",
    "    number_of_child_nodes = 0\n",
    "    for child in req['pipelineConfig']['connections']:\n",
    "        if child['source'] == req['componentId']:\n",
    "            number_of_child_nodes+=1\n",
    "    if req['componentId'] in req['pipelineConfig']['endComponents']:\n",
    "        number_of_child_nodes += 1\n",
    "\n",
    "\n",
    "    documents = process(document, number_of_child_nodes)\n",
    "\n",
    "    assert len(documents) == number_of_child_nodes\n",
    "\n",
    "    documents_dict_array = [{'document': doc} for doc in documents]\n",
    "\n",
    "\n",
    "    return jsonify(\n",
    "            {'documents' : documents_dict_array,\n",
    "            'pipelineConfig' : req['pipelineConfig'],\n",
    "            'componentId' : req['componentId']}\n",
    "            )"
   ]
  },
  {
   "cell_type": "code",
   "execution_count": null,
   "id": "c512dd90-ad63-4873-9b18-fb3c45c30290",
   "metadata": {},
   "outputs": [],
   "source": [
    "class LoggingMiddleware(object):\n",
    "    def __init__(self, app):\n",
    "        self._app = app\n",
    "\n",
    "    def __call__(self, env, resp):\n",
    "        errorlog = env['wsgi.errors']\n",
    "        #pprint.pprint(('REQUEST', env), stream=errorlog)\n",
    "\n",
    "        def log_response(status, headers, *args):\n",
    "            #pprint.pprint(('RESPONSE', status, headers), stream=errorlog)\n",
    "            return resp(status, headers, *args)\n",
    "\n",
    "        return self._app(env, log_response)\n",
    "\n",
    "\n",
    "# Run at flask startup (https://stackoverflow.com/a/55573732)\n",
    "with app.app_context():\n",
    "    pass"
   ]
  },
  {
   "cell_type": "markdown",
   "id": "49037f38-a89b-4dca-b337-f628c092f312",
   "metadata": {},
   "source": [
    "You can change the port of the web service here, after running the following code the webservice will be available.\n",
    "\n",
    "**NOTE**: It only accepts get and post requests, trying to open the web page will result in an error with code 500."
   ]
  },
  {
   "cell_type": "code",
   "execution_count": null,
   "id": "4a549e52-124b-452f-a333-6ae039c74eb2",
   "metadata": {},
   "outputs": [],
   "source": [
    "if __name__ == '__main__':\n",
    "    # MAKE SURE YOU DON'T USE THE SAME PORT ON THE OTHER PIPELINE COMPONENTS\n",
    "    port = 5004 \n",
    "    print(\"Running app... on port: \", port)\n",
    "    app.wsgi_app = LoggingMiddleware(app.wsgi_app)\n",
    "    app.run(host='0.0.0.0', port=port)"
   ]
  }
 ],
 "metadata": {
  "kernelspec": {
   "display_name": "Python 3 (ipykernel)",
   "language": "python",
   "name": "python3"
  },
  "language_info": {
   "codemirror_mode": {
    "name": "ipython",
    "version": 3
   },
   "file_extension": ".py",
   "mimetype": "text/x-python",
   "name": "python",
   "nbconvert_exporter": "python",
   "pygments_lexer": "ipython3",
   "version": "3.11.1"
  }
 },
 "nbformat": 4,
 "nbformat_minor": 5
}
