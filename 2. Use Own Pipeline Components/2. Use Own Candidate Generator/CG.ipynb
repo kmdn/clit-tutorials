{
 "cells": [
  {
   "cell_type": "markdown",
   "id": "24338db9-6153-4d35-b73a-1951990e8b31",
   "metadata": {},
   "source": [
    "# Integrate own candidate generation system\n",
    "As mentioned in the previous section, to make this as easy to use as possible, this notebook provide a template for integrating own candidate generation system in the pipeline."
   ]
  },
  {
   "cell_type": "code",
   "execution_count": null,
   "id": "c1eebf7f-69ae-4c38-9d04-fb4c28e9c690",
   "metadata": {},
   "outputs": [],
   "source": [
    "from flask import Flask, request, Response, jsonify\n",
    "import json\n",
    "import spacy\n",
    "\n",
    "app = Flask(__name__)\n",
    "\n",
    "print(\"Loading Custom CG\")\n"
   ]
  },
  {
   "cell_type": "code",
   "execution_count": null,
   "id": "0e54f507-cb4a-4825-b7d8-32077e77ca83",
   "metadata": {},
   "outputs": [],
   "source": [
    "def add_possible_assignment(score, assignment, possible_assignments_list):\n",
    "    possible_assignment_object = {\n",
    "            \"score\": score,\n",
    "            \"assignment\": assignment\n",
    "            }\n",
    "\n",
    "    possible_assignments_list.append(possible_assignment_object)"
   ]
  },
  {
   "cell_type": "markdown",
   "id": "1855b249-d72e-4b43-a4c9-b56dd0c832e7",
   "metadata": {},
   "source": [
    "**This is mostly the main part of the code you need to adapt**\n",
    "\n",
    "change the possible_assignments variable to something like \n",
    "\n",
    "    possible_assignments = own_system.generate_candidates(mention)\n",
    "    \n",
    "the own_system.generate_candidates method need to return a list of objects, that have the following format\n",
    "\n",
    "    {\n",
    "       \"score\": float,\n",
    "       \"assignment\": str\n",
    "    }"
   ]
  },
  {
   "cell_type": "code",
   "execution_count": null,
   "id": "cf677e0b-da32-40e5-9e91-fab5c2b4e63a",
   "metadata": {},
   "outputs": [],
   "source": [
    "def generate_candidates(mention):\n",
    "    # CHANGE THIS LINE\n",
    "    possible_assignments = [{\"score\":1.0,\"assignment\":\"test.com/Napoleon\"},{\"score\":1.0,\"assignment\":\"http://babelnet.org/rdf/s00030591n\"}]\n",
    "    return possible_assignments"
   ]
  },
  {
   "cell_type": "code",
   "execution_count": null,
   "id": "0cfc26bd-6cf8-4ab4-aa00-99f609f96209",
   "metadata": {},
   "outputs": [],
   "source": [
    "def process(document):\n",
    "    mentions = document['mentions']\n",
    "\n",
    "    for mention in mentions:\n",
    "        if mention['possibleAssignments'] is None:\n",
    "            mention['possibleAssignments'] = []\n",
    "\n",
    "        possible_assignments = generate_candidates(mention)\n",
    "\n",
    "        for possibleAssignment in possible_assignments:\n",
    "            assignment_score = possibleAssignment['score']\n",
    "            assignment_value = possibleAssignment['assignment']\n",
    "\n",
    "            add_possible_assignment(assignment_score, assignment_value, mention['possibleAssignments'])\n"
   ]
  },
  {
   "cell_type": "markdown",
   "id": "478ababb-fc93-420a-a0ab-059a238b02e3",
   "metadata": {},
   "source": [
    "The object that will be received by the web service looks as follows (example)\n",
    "\n",
    "    {\n",
    "        ...\n",
    "        \"document\": {\n",
    "            \"componentId\":\"input\",\n",
    "            \"mentions\":[\n",
    "                {'mention': 'Napoleon', 'offset': 0},\n",
    "                {'mention': 'emperor', 'offset': 17}\n",
    "            ],\n",
    "            \"pipelineType\":\"NONE\",\n",
    "            \"text\":\"Napoleon was the emperor of the First French Empire.\", <-- the input text ------------------------------------------------\n",
    "            \"uri\":null\n",
    "        },\n",
    "        ...\n",
    "        }\n",
    "    }\n",
    "\n",
    "    \n",
    "You can test this candidate generation system by using the following command:\n",
    "\n",
    "    curl http://127.0.0.1:5002/ --header \"Content-Type: application/json\" --request POST -d '{\"document\":{\"uri\":null,\"text\":\"Napoleon was the emperor of the First French Empire.\",\"mentions\":[{\"mention\":\"Napoleon\",\"offset\":0,\"assignment\":null,\"detectionConfidence\":-1.0,\"possibleAssignments\":[],\"originalMention\":\"Napoleon\",\"originalWithoutStopwords\":\"Napoleon\",\"logger\":{\"logName\":\"structure.datatypes.Mention\"}},{\"mention\":\"emperor\",\"offset\":17,\"assignment\":null,\"detectionConfidence\":-1.0,\"possibleAssignments\":[],\"originalMention\":\"emperor\",\"originalWithoutStopwords\":\"emperor\",\"logger\":{\"logName\":\"structure.datatypes.Mention\"}}],\"componentId\":\"MD1\",\"pipelineType\":\"MD\"},\"pipelineConfig\":{\"startComponents\":[\"MD1\"],\"components\":{\"cg\":[{\"id\":\"CG1\",\"value\":\"http://127.0.0.1:5002\"}],\"md\":[{\"id\":\"MD1\",\"value\":\"http://127.0.0.1:5001\"}],\"cg_ed\":[]},\"exampleId\":\"md_combined_cged\",\"endComponents\":[\"CG1\"],\"displayName\":\"MD + combined CG-ED\",\"id\":1,\"connections\":[{\"source\":\"MD1\",\"target\":\"CG1\"}],\"pipelineConfigType\":\"complex\"},\"componentId\":\"CG1\"}'"
   ]
  },
  {
   "cell_type": "code",
   "execution_count": null,
   "id": "ca065423-7493-4c04-8407-f500b733ff58",
   "metadata": {},
   "outputs": [],
   "source": [
    "@app.route('/', methods=['get', 'post'])\n",
    "def index():\n",
    "    print(\"Incoming request:\")\n",
    "    print(request.data)\n",
    "    req = json.loads(request.data)\n",
    "    document = req['document']\n",
    "\n",
    "    process(document)\n",
    "\n",
    "    return jsonify(\n",
    "            {'document' : document,\n",
    "            'pipelineConfig' : req['pipelineConfig'],\n",
    "            'componentId' : req['componentId']}\n",
    "            )"
   ]
  },
  {
   "cell_type": "code",
   "execution_count": null,
   "id": "b1ad8259-c36e-40b0-9206-6dd7f2e629ab",
   "metadata": {},
   "outputs": [],
   "source": [
    "class LoggingMiddleware(object):\n",
    "    def __init__(self, app):\n",
    "        self._app = app\n",
    "\n",
    "    def __call__(self, env, resp):\n",
    "        errorlog = env['wsgi.errors']\n",
    "        #pprint.pprint(('REQUEST', env), stream=errorlog)\n",
    "\n",
    "        def log_response(status, headers, *args):\n",
    "            #pprint.pprint(('RESPONSE', status, headers), stream=errorlog)\n",
    "            return resp(status, headers, *args)\n",
    "\n",
    "        return self._app(env, log_response)\n",
    "\n",
    "\n",
    "# Run at flask startup (https://stackoverflow.com/a/55573732)\n",
    "with app.app_context():\n",
    "    pass"
   ]
  },
  {
   "cell_type": "markdown",
   "id": "5a0c086a-11b1-4f38-884f-57164f702fe7",
   "metadata": {},
   "source": [
    "You can change the port of the web service here, after running the following code the webservice will be available.\n",
    "\n",
    "**NOTE**: It only accepts get and post requests, trying to open the web page will result in an error with code 500."
   ]
  },
  {
   "cell_type": "code",
   "execution_count": null,
   "id": "b7cf0c30-eb6c-4325-aef9-f4c5ef8c140d",
   "metadata": {},
   "outputs": [],
   "source": [
    "if __name__ == '__main__':\n",
    "    # MAKE SURE YOU DON'T USE THE SAME PORT ON THE OTHER PIPELINE COMPONENTS\n",
    "    port = 5002\n",
    "    print(\"Running app... on port: \", port)\n",
    "    app.wsgi_app = LoggingMiddleware(app.wsgi_app)\n",
    "    app.run(host='0.0.0.0', port=port)"
   ]
  }
 ],
 "metadata": {
  "kernelspec": {
   "display_name": "Python 3 (ipykernel)",
   "language": "python",
   "name": "python3"
  },
  "language_info": {
   "codemirror_mode": {
    "name": "ipython",
    "version": 3
   },
   "file_extension": ".py",
   "mimetype": "text/x-python",
   "name": "python",
   "nbconvert_exporter": "python",
   "pygments_lexer": "ipython3",
   "version": "3.11.0"
  }
 },
 "nbformat": 4,
 "nbformat_minor": 5
}
