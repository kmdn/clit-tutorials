{
 "cells": [
  {
   "cell_type": "markdown",
   "id": "062f9dc0-b62b-42e5-b193-6a00765da5fd",
   "metadata": {},
   "source": [
    "# Integrate own Translator\n",
    "As mentioned in the previous section, to make this as easy to use as possible, this notebook provide a template for integrating own Translator in the pipeline."
   ]
  },
  {
   "cell_type": "code",
   "execution_count": null,
   "id": "9956bd20-4178-4730-b480-05127674df31",
   "metadata": {},
   "outputs": [],
   "source": [
    "from flask import Flask, request, Response, jsonify\n",
    "import json\n",
    "import spacy\n",
    "\n",
    "app = Flask(__name__)\n",
    "\n",
    "print(\"Loading Custom Translator\")\n"
   ]
  },
  {
   "cell_type": "markdown",
   "id": "22dff883",
   "metadata": {},
   "source": [
    "You can modify the process_link method, you get the link of a mention (and also a mention in case its needed).\n",
    "in the default case, this method, replaces the dbpedia link to a wikipedia link.\n",
    "\n",
    "Modifying the process method is in this case not needed."
   ]
  },
  {
   "cell_type": "code",
   "execution_count": null,
   "id": "f6ba5514-9005-47db-9c65-1e090fa984c7",
   "metadata": {},
   "outputs": [],
   "source": [
    "# translates dbpedia to wikipedia\n",
    "def process_link(link, mention):\n",
    "    processed_link = link.replace(\"http://dbpedia.org/resource/\", \"https://wikipedia.org/wiki/\")\n",
    "    return processed_link"
   ]
  },
  {
   "cell_type": "code",
   "execution_count": null,
   "id": "8f0fc477",
   "metadata": {},
   "outputs": [],
   "source": [
    "def process(document):\n",
    "    for mention_dict in document['mentions']:\n",
    "        mention_value = mention_dict['mention']\n",
    "        link = mention_dict['assignment']['assignment']\n",
    "        processed_link = process_link(link, mention_value)\n",
    "        mention_dict['assignment']['assignment'] = processed_link\n",
    "\n",
    "        for possible_assignment in mention_dict['possibleAssignments']:\n",
    "            processed_link_possible_assignment = process_link(possible_assignment['assignment'], mention_value)\n",
    "            possible_assignment['assignment'] = processed_link_possible_assignment\n",
    "\n",
    "    return document"
   ]
  },
  {
   "cell_type": "code",
   "execution_count": null,
   "id": "ed775cf0-6e4f-48ba-8a06-03f06349547e",
   "metadata": {},
   "outputs": [],
   "source": [
    "@app.route('/', methods=['get', 'post'])\n",
    "def index():\n",
    "    print(\"Incoming request:\")\n",
    "    req = json.loads(request.data)\n",
    "\n",
    "\n",
    "    document = process(req['document'])\n",
    "\n",
    "    return jsonify(\n",
    "            {'document' : document,\n",
    "            'pipelineConfig' : req['pipelineConfig'],\n",
    "            'componentId' : req['componentId']}\n",
    "            )\n"
   ]
  },
  {
   "cell_type": "code",
   "execution_count": null,
   "id": "c512dd90-ad63-4873-9b18-fb3c45c30290",
   "metadata": {},
   "outputs": [],
   "source": [
    "class LoggingMiddleware(object):\n",
    "    def __init__(self, app):\n",
    "        self._app = app\n",
    "\n",
    "    def __call__(self, env, resp):\n",
    "        errorlog = env['wsgi.errors']\n",
    "        #pprint.pprint(('REQUEST', env), stream=errorlog)\n",
    "\n",
    "        def log_response(status, headers, *args):\n",
    "            #pprint.pprint(('RESPONSE', status, headers), stream=errorlog)\n",
    "            return resp(status, headers, *args)\n",
    "\n",
    "        return self._app(env, log_response)\n",
    "\n",
    "\n",
    "# Run at flask startup (https://stackoverflow.com/a/55573732)\n",
    "with app.app_context():\n",
    "    pass"
   ]
  },
  {
   "cell_type": "markdown",
   "id": "49037f38-a89b-4dca-b337-f628c092f312",
   "metadata": {},
   "source": [
    "You can change the port of the web service here, after running the following code the webservice will be available.\n",
    "\n",
    "**NOTE**: It only accepts get and post requests, trying to open the web page will result in an error with code 500."
   ]
  },
  {
   "cell_type": "code",
   "execution_count": null,
   "id": "4a549e52-124b-452f-a333-6ae039c74eb2",
   "metadata": {},
   "outputs": [],
   "source": [
    "if __name__ == '__main__':\n",
    "    # MAKE SURE YOU DON'T USE THE SAME PORT ON THE OTHER PIPELINE COMPONENTS\n",
    "    port = 5006\n",
    "    print(\"Running app... on port: \", port)\n",
    "    app.wsgi_app = LoggingMiddleware(app.wsgi_app)\n",
    "    app.run(host='0.0.0.0', port=port)"
   ]
  }
 ],
 "metadata": {
  "kernelspec": {
   "display_name": "Python 3 (ipykernel)",
   "language": "python",
   "name": "python3"
  },
  "language_info": {
   "codemirror_mode": {
    "name": "ipython",
    "version": 3
   },
   "file_extension": ".py",
   "mimetype": "text/x-python",
   "name": "python",
   "nbconvert_exporter": "python",
   "pygments_lexer": "ipython3",
   "version": "3.11.1"
  }
 },
 "nbformat": 4,
 "nbformat_minor": 5
}
