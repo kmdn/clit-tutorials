{
 "cells": [
  {
   "cell_type": "markdown",
   "id": "45357a7b-dced-4733-b94e-8070237492b8",
   "metadata": {},
   "source": [
    "# Integrate own mention detection system\n",
    "As mentioned in the previous section, to make this as easy to use as possible, this notebook provide a template for integrating own mention detection in the pipeline."
   ]
  },
  {
   "cell_type": "code",
   "execution_count": null,
   "id": "f2ad2d56-36ba-45f2-b7fc-db0712c73fe1",
   "metadata": {},
   "outputs": [],
   "source": [
    "from flask import Flask, request, Response, jsonify\n",
    "import json\n",
    "import spacy\n",
    "\n",
    "app = Flask(__name__)\n",
    "\n",
    "print(\"Loading Custom MD\")\n"
   ]
  },
  {
   "cell_type": "code",
   "execution_count": null,
   "id": "b2d66875-b2c1-4419-8b0e-96b38c17bf6a",
   "metadata": {},
   "outputs": [],
   "source": [
    "def add_mention(mention, offset, mentions_list):\n",
    "    mention_object = {\n",
    "            \"mention\": mention,\n",
    "            \"offset\": offset\n",
    "            }\n",
    "    mentions_list.append(mention_object)"
   ]
  },
  {
   "cell_type": "markdown",
   "id": "8c317d15-4612-448f-a09c-b9b4d83b599c",
   "metadata": {},
   "source": [
    "**This is mostly the main part of the code you need to adapt**\n",
    "\n",
    "change the mentions variable to something like \n",
    "\n",
    "    mentions = own_system.detect(text)\n",
    "    \n",
    "the own_system.detect method need to return a list of objects, that have the following format\n",
    "\n",
    "    {\n",
    "       \"text\": str,\n",
    "       \"offset\": int\n",
    "    }"
   ]
  },
  {
   "cell_type": "code",
   "execution_count": null,
   "id": "cb214a70-3a61-4583-94ba-670f4e7d89aa",
   "metadata": {},
   "outputs": [],
   "source": [
    "def detect(text):\n",
    "    # CHANGE THIS LINE\n",
    "    mentions = [{\"text\": \"Napoleon\", \"offset\": 0}, {\"text\": \"emperor\", \"offset\": 17}]\n",
    "    return mentions"
   ]
  },
  {
   "cell_type": "code",
   "execution_count": null,
   "id": "b8ba601f-1b55-44b8-acf6-3e3a0771d764",
   "metadata": {},
   "outputs": [],
   "source": [
    "def process(document):\n",
    "    text = document['text']\n",
    "\n",
    "    mentions = detect(text)\n",
    "\n",
    "    if document['mentions'] is None:\n",
    "        document['mentions'] = []\n",
    "\n",
    "    for mention in mentions:\n",
    "        mention_text = mention[\"text\"]\n",
    "        mention_offset = mention[\"offset\"]\n",
    "        add_mention(mention_text, mention_offset, document['mentions'])\n"
   ]
  },
  {
   "cell_type": "markdown",
   "id": "88276ea5-c2b6-4af6-9c49-9415d9328c86",
   "metadata": {},
   "source": [
    "The object that will be received by the web service looks as follows (example)\n",
    "\n",
    "    {\n",
    "      \"componentId\":\"MD1\",\n",
    "      \"document\": {\n",
    "        \"componentId\":\"input\",\n",
    "        \"mentions\":[],\n",
    "        \"pipelineType\":\"NONE\",\n",
    "        \"text\":\"Napoleon was the emperor of the First French Empire.\", <-- the input text ------------------------------------------------\n",
    "        \"uri\":null\n",
    "      },\n",
    "      \"pipelineConfig\":{\n",
    "        \"components\":{\n",
    "          \"cg_ed\":[],\n",
    "          \"md\":[{\n",
    "            \"id\":\"MD1\",\n",
    "            \"value\":\"http://host.docker.internal:5001\"\n",
    "          }]\n",
    "        },\n",
    "        \"connections\":[],\n",
    "        \"displayName\":\"MD + combined CG-ED\",\n",
    "        \"endComponents\":[\"MD1\"],\n",
    "        \"exampleId\":\"md_combined_cged\",\n",
    "        \"id\":1,\n",
    "        \"pipelineConfigType\":\"complex\",\n",
    "        \"startComponents\":[\"MD1\"]\n",
    "      }\n",
    "    }\n",
    "    \n",
    "You can test this mention detector by using the following command:\n",
    "\n",
    "    curl http://127.0.0.1:5001/ --header \"Content-Type: application/json\" --request POST -d '{\"document\" : {\"text\": \"Napoleon was the emperor of the First French Empire.\"},\"pipelineConfig\": \"complex\",\"componentId\": \"MD1\"}'"
   ]
  },
  {
   "cell_type": "code",
   "execution_count": null,
   "id": "a22b5f97-bb6f-40ab-83e0-4a9f3beea355",
   "metadata": {},
   "outputs": [],
   "source": [
    "@app.route('/', methods=['get', 'post'])\n",
    "def index():\n",
    "    print(\"Incoming request:\")\n",
    "    print(request.data)\n",
    "    req = json.loads(request.data)\n",
    "    document = req['document']\n",
    "\n",
    "    process(document)\n",
    "\n",
    "    return jsonify(\n",
    "            {'document' : document,\n",
    "            'pipelineConfig' : req['pipelineConfig'],\n",
    "            'componentId' : req['componentId']}\n",
    "            )"
   ]
  },
  {
   "cell_type": "code",
   "execution_count": null,
   "id": "e26695da-452a-4328-ae72-f694ee0185f4",
   "metadata": {},
   "outputs": [],
   "source": [
    "class LoggingMiddleware(object):\n",
    "    def __init__(self, app):\n",
    "        self._app = app\n",
    "\n",
    "    def __call__(self, env, resp):\n",
    "        errorlog = env['wsgi.errors']\n",
    "        #pprint.pprint(('REQUEST', env), stream=errorlog)\n",
    "\n",
    "        def log_response(status, headers, *args):\n",
    "            #pprint.pprint(('RESPONSE', status, headers), stream=errorlog)\n",
    "            return resp(status, headers, *args)\n",
    "\n",
    "        return self._app(env, log_response)\n",
    "\n",
    "\n",
    "# Run at flask startup (https://stackoverflow.com/a/55573732)\n",
    "with app.app_context():\n",
    "    pass"
   ]
  },
  {
   "cell_type": "markdown",
   "id": "f9152a22-0479-4402-9df8-caa04e9cd49b",
   "metadata": {},
   "source": [
    "You can change the port of the web service here, after running the following code the webservice will be available.\n",
    "\n",
    "**NOTE**: It only accepts get and post requests, trying to open the web page will result in an error with code 500."
   ]
  },
  {
   "cell_type": "code",
   "execution_count": null,
   "id": "fed3ec02-32d6-4105-bc20-f4821a4d17a6",
   "metadata": {},
   "outputs": [],
   "source": [
    "if __name__ == '__main__':\n",
    "    port = 5001 # MAKE SURE YOU DON'T USE THE SAME PORT ON THE OTHER PIPELINE COMPONENTS\n",
    "    print(\"Running app... on port: \", port)\n",
    "    app.wsgi_app = LoggingMiddleware(app.wsgi_app)\n",
    "    app.run(host='0.0.0.0', port=port)"
   ]
  }
 ],
 "metadata": {
  "kernelspec": {
   "display_name": "Python 3 (ipykernel)",
   "language": "python",
   "name": "python3"
  },
  "language_info": {
   "codemirror_mode": {
    "name": "ipython",
    "version": 3
   },
   "file_extension": ".py",
   "mimetype": "text/x-python",
   "name": "python",
   "nbconvert_exporter": "python",
   "pygments_lexer": "ipython3",
   "version": "3.11.1"
  }
 },
 "nbformat": 4,
 "nbformat_minor": 5
}
