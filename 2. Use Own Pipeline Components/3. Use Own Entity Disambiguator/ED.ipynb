{
 "cells": [
  {
   "cell_type": "markdown",
   "id": "062f9dc0-b62b-42e5-b193-6a00765da5fd",
   "metadata": {},
   "source": [
    "# Integrate own entity disambiguation system\n",
    "As mentioned in the previous section, to make this as easy to use as possible, this notebook provide a template for integrating own entity disambiguation system in the pipeline."
   ]
  },
  {
   "cell_type": "code",
   "execution_count": null,
   "id": "9956bd20-4178-4730-b480-05127674df31",
   "metadata": {},
   "outputs": [],
   "source": [
    "from flask import Flask, request, Response, jsonify\n",
    "import json\n",
    "import spacy\n",
    "\n",
    "app = Flask(__name__)\n",
    "\n",
    "print(\"Loading Custom ED\")\n"
   ]
  },
  {
   "cell_type": "code",
   "execution_count": null,
   "id": "36cc7d06-ac33-49ea-a461-57f1a0980b65",
   "metadata": {},
   "outputs": [],
   "source": [
    "def add_assignment(score, assignment, mention):\n",
    "    if not mention['assignment']:\n",
    "        mention['assignment'] = {}\n",
    "    mention['assignment']['score'] = score\n",
    "    mention['assignment']['assignment'] = assignment"
   ]
  },
  {
   "cell_type": "markdown",
   "id": "8915bef1-a493-4673-8c37-341949150e0c",
   "metadata": {},
   "source": [
    "**This is mostly the main part of the code you need to adapt**\n",
    "\n",
    "change the assignment variable to something like \n",
    "\n",
    "    assignment = own_system.entity_disambiguation(possible_assignments, all_possible_assignments)\n",
    "    \n",
    "where possible_assignments, all the possible candidates for a mention, and all_possible_assignments is a flat list that combines all the possible_assignments for all the mentions.\n",
    "    \n",
    "the own_system.entity_disambiguation method need to return a list of objects, that have the following format\n",
    "\n",
    "    {\n",
    "       \"score\": float,\n",
    "       \"value\": str\n",
    "    }"
   ]
  },
  {
   "cell_type": "code",
   "execution_count": null,
   "id": "a259b46a-c5d8-4ce7-accf-4eb482d5e407",
   "metadata": {},
   "outputs": [],
   "source": [
    "def choose_candidate(possible_assignments, all_possible_assignments):\n",
    "    # CHANGE THIS LINE\n",
    "    assignment = {\"score\": 1, \"value\": \"test.com/Napoleon\"}\n",
    "    return assignment"
   ]
  },
  {
   "cell_type": "code",
   "execution_count": null,
   "id": "f6ba5514-9005-47db-9c65-1e090fa984c7",
   "metadata": {},
   "outputs": [],
   "source": [
    "def process(document):\n",
    "    mentions = document['mentions']\n",
    "    all_possible_assignments_list = [m['possibleAssignments'] for m in mentions]\n",
    "    all_possible_assignments = [possibleAssignment for sublist in all_possible_assignments_list for possibleAssignment in sublist]\n",
    "\n",
    "    for mention in mentions:\n",
    "        if mention['possibleAssignments'] is None or not mention['possibleAssignments']:\n",
    "            pass\n",
    "\n",
    "        assignment = choose_candidate(mention['possibleAssignments'], all_possible_assignments)\n",
    "\n",
    "        assignment_score = assignment['score']\n",
    "        assignment_value = assignment['value']\n",
    "\n",
    "        add_assignment(assignment_score, assignment_value, mention)"
   ]
  },
  {
   "cell_type": "markdown",
   "id": "a566ee96-715e-41d3-b036-a04458729f8a",
   "metadata": {},
   "source": [
    "The object that will be received by the web service looks as follows (example)\n",
    "\n",
    "    \"document\": [{\n",
    "        \"componentId\": \"CG1\",\n",
    "        \"mentions\": [{\n",
    "          \"offset\": 0,\n",
    "          \"assignment\": null,\n",
    "          \"possibleAssignments\": [{\n",
    "            \"score\": 1.0,\n",
    "            \"assignment\": \"http://dbpedia.org/resource/Emperor\"\n",
    "          },\n",
    "          {\n",
    "            \"score\": 1.0,\n",
    "            \"assignment\": \"http://babelnet.org/rdf/s00030591n\"\n",
    "          }],\n",
    "          \"originalWithoutStopwords\": \"Napoleon\",\n",
    "          \"detectionConfidence\": -1.0,\n",
    "          \"originalMention\": \"Napoleon\",\n",
    "          \"mention\": \"Napoleon\"\n",
    "        },\n",
    "        {\n",
    "          \"offset\": 17,\n",
    "          \"assignment\": null,\n",
    "          \"possibleAssignments\": [{\n",
    "            \"score\": 1.0,\n",
    "            \"assignment\": \"http://dbpedia.org/resource/Emperor\"\n",
    "          },\n",
    "          {\n",
    "            \"score\": 1.0,\n",
    "            \"assignment\": \"http://babelnet.org/rdf/s00030591n\"\n",
    "          }],\n",
    "          \"originalWithoutStopwords\": \"emperor\",\n",
    "          \"detectionConfidence\": -1.0,\n",
    "          \"originalMention\": \"emperor\",\n",
    "          \"mention\": \"emperor\"\n",
    "        }],\n",
    "        \"text\": \"Napoleon was the emperor of the First French Empire.\",\n",
    "        \"pipelineType\": \"CG\",\n",
    "        \"uri\": null\n",
    "      }]\n",
    "\n",
    "    \n",
    "You can test this entity disambiguation system by using the following command:\n",
    "\n",
    "    curl http://127.0.0.1:5003/ --header \"Content-Type: application/json\" --request POST -d '{\"document\":{\"uri\":null,\"text\":\"Napoleon was the emperor of the First French Empire.\",\"mentions\":[{\"mention\":\"Napoleon\",\"offset\":0,\"assignment\":null,\"detectionConfidence\":-1.0,\"possibleAssignments\":[{\"score\":1.0,\"assignment\":\"test.com/Napoleon\"},{\"score\":1.0,\"assignment\":\"test2.com/Napoleon\"}],\"originalMention\":\"Napoleon\",\"originalWithoutStopwords\":\"Napoleon\",\"logger\":{\"logName\":\"structure.datatypes.Mention\"}},{\"mention\":\"emperor\",\"offset\":17,\"assignment\":null,\"detectionConfidence\":-1.0,\"possibleAssignments\":[{\"score\":1.0,\"assignment\":\"test.com/Napoleon\"},{\"score\":1.0,\"assignment\":\"test2.com/Napoleon\"}],\"originalMention\":\"emperor\",\"originalWithoutStopwords\":\"emperor\",\"logger\":{\"logName\":\"structure.datatypes.Mention\"}}],\"componentId\":\"MD1\",\"pipelineType\":\"MD\"},\"pipelineConfig\":{\"startComponents\":[\"MD1\"],\"components\":{\"cg\":[{\"id\":\"CG1\",\"value\":\"http://127.0.0.1:5002\"}],\"md\":[{\"id\":\"MD1\",\"value\":\"http://127.0.0.1:5001\"}],\"cg_ed\":[]},\"exampleId\":\"md_combined_cged\",\"endComponents\":[\"CG1\"],\"displayName\":\"MD + combined CG-ED\",\"id\":1,\"connections\":[{\"source\":\"MD1\",\"target\":\"CG1\"}],\"pipelineConfigType\":\"complex\"},\"componentId\":\"CG1\"}'"
   ]
  },
  {
   "cell_type": "code",
   "execution_count": null,
   "id": "ed775cf0-6e4f-48ba-8a06-03f06349547e",
   "metadata": {},
   "outputs": [],
   "source": [
    "@app.route('/', methods=['get', 'post'])\n",
    "def index():\n",
    "    print(\"Incoming request:\")\n",
    "    req = json.loads(request.data)\n",
    "    document = req['document']\n",
    "\n",
    "    process(document)\n",
    "    print(document)\n",
    "\n",
    "    return jsonify(\n",
    "            {'document' : document,\n",
    "            'pipelineConfig' : req['pipelineConfig'],\n",
    "            'componentId' : req['componentId']}\n",
    "            )"
   ]
  },
  {
   "cell_type": "code",
   "execution_count": null,
   "id": "c512dd90-ad63-4873-9b18-fb3c45c30290",
   "metadata": {},
   "outputs": [],
   "source": [
    "class LoggingMiddleware(object):\n",
    "    def __init__(self, app):\n",
    "        self._app = app\n",
    "\n",
    "    def __call__(self, env, resp):\n",
    "        errorlog = env['wsgi.errors']\n",
    "        #pprint.pprint(('REQUEST', env), stream=errorlog)\n",
    "\n",
    "        def log_response(status, headers, *args):\n",
    "            #pprint.pprint(('RESPONSE', status, headers), stream=errorlog)\n",
    "            return resp(status, headers, *args)\n",
    "\n",
    "        return self._app(env, log_response)\n",
    "\n",
    "\n",
    "# Run at flask startup (https://stackoverflow.com/a/55573732)\n",
    "with app.app_context():\n",
    "    pass"
   ]
  },
  {
   "cell_type": "markdown",
   "id": "49037f38-a89b-4dca-b337-f628c092f312",
   "metadata": {},
   "source": [
    "You can change the port of the web service here, after running the following code the webservice will be available.\n",
    "\n",
    "**NOTE**: It only accepts get and post requests, trying to open the web page will result in an error with code 500."
   ]
  },
  {
   "cell_type": "code",
   "execution_count": null,
   "id": "4a549e52-124b-452f-a333-6ae039c74eb2",
   "metadata": {},
   "outputs": [],
   "source": [
    "if __name__ == '__main__':\n",
    "    # MAKE SURE YOU DON'T USE THE SAME PORT ON THE OTHER PIPELINE COMPONENTS\n",
    "    port = 5003 \n",
    "    print(\"Running app... on port: \", port)\n",
    "    app.wsgi_app = LoggingMiddleware(app.wsgi_app)\n",
    "    app.run(host='0.0.0.0', port=port)"
   ]
  }
 ],
 "metadata": {
  "kernelspec": {
   "display_name": "Python 3 (ipykernel)",
   "language": "python",
   "name": "python3"
  },
  "language_info": {
   "codemirror_mode": {
    "name": "ipython",
    "version": 3
   },
   "file_extension": ".py",
   "mimetype": "text/x-python",
   "name": "python",
   "nbconvert_exporter": "python",
   "pygments_lexer": "ipython3",
   "version": "3.11.0"
  }
 },
 "nbformat": 4,
 "nbformat_minor": 5
}
